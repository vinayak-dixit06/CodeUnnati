{
 "cells": [
  {
   "cell_type": "markdown",
   "id": "d53b0948",
   "metadata": {},
   "source": [
    "# Unit 1 : Python Fundamentals\n",
    "-------------------------------------------------------------------------------------------------------------------------------"
   ]
  },
  {
   "cell_type": "markdown",
   "id": "2e335edb",
   "metadata": {},
   "source": [
    "## 1.1. Important points :\n",
    "\n",
    "    Python is an interpreted programming language.\n",
    "    Python Interpreter compiles the code line by line.\n",
    "    Python is a loosely typed programming language i.e. no need to mention datatype of the variable while declaring it.\n",
    "\n",
    "    While taking input from the user, by-default the input method takes string input.\n",
    "-------------------------------------------------------------------------------------------------------------------------------"
   ]
  },
  {
   "cell_type": "markdown",
   "id": "bd6e4996",
   "metadata": {},
   "source": [
    "### 1.1.1. print() statement :"
   ]
  },
  {
   "cell_type": "code",
   "execution_count": 1,
   "id": "a9958531",
   "metadata": {},
   "outputs": [
    {
     "name": "stdout",
     "output_type": "stream",
     "text": [
      "Hello Anonymous....!\n"
     ]
    }
   ],
   "source": [
    "# using print() function in python to print on the console\n",
    "\n",
    "print(\"Hello Anonymous....!\")"
   ]
  },
  {
   "cell_type": "markdown",
   "id": "b0863c39",
   "metadata": {},
   "source": [
    "-------------------------------------------------------------------------------------------------------------------------------\n",
    "## 1.2. Variables in python :"
   ]
  },
  {
   "cell_type": "code",
   "execution_count": 2,
   "id": "72179d6f",
   "metadata": {},
   "outputs": [
    {
     "name": "stdout",
     "output_type": "stream",
     "text": [
      "Program 1 :\n",
      "var1 = Python\n",
      "a = 50\n",
      "b = 99\n",
      "\n",
      "Program 2 :\n"
     ]
    },
    {
     "ename": "NameError",
     "evalue": "name 'b' is not defined",
     "output_type": "error",
     "traceback": [
      "\u001b[1;31m---------------------------------------------------------------------------\u001b[0m",
      "\u001b[1;31mNameError\u001b[0m                                 Traceback (most recent call last)",
      "Input \u001b[1;32mIn [2]\u001b[0m, in \u001b[0;36m<cell line: 22>\u001b[1;34m()\u001b[0m\n\u001b[0;32m     20\u001b[0m \u001b[38;5;28;01mdel\u001b[39;00m b\n\u001b[0;32m     21\u001b[0m \u001b[38;5;28mprint\u001b[39m(\u001b[38;5;124m\"\u001b[39m\u001b[38;5;130;01m\\n\u001b[39;00m\u001b[38;5;124mProgram 2 :\u001b[39m\u001b[38;5;124m\"\u001b[39m)\n\u001b[1;32m---> 22\u001b[0m \u001b[38;5;28mprint\u001b[39m(\u001b[43mb\u001b[49m)\n",
      "\u001b[1;31mNameError\u001b[0m: name 'b' is not defined"
     ]
    }
   ],
   "source": [
    "# Python Variables\n",
    "\n",
    "# Declaring a variable in Python\n",
    "# Syntax : Variable_Name = Value\n",
    "\n",
    "# ***Important*** While declaring a variable it is not required to mention the datatype of the variable unlike C\n",
    "\n",
    "# Program 1 : Declaring a variable\n",
    "var1 = \"Python\"\n",
    "a = 50\n",
    "b = 99\n",
    "\n",
    "print(\"Program 1 :\")\n",
    "print(\"var1 =\",var1)\n",
    "print(\"a =\",a)\n",
    "print(\"b =\",b)\n",
    "\n",
    "# Program 2 : Deleting a variable\n",
    "# use del command \n",
    "del b\n",
    "print(\"\\nProgram 2 :\")\n",
    "print(b) # We will get an error because b is deleted"
   ]
  },
  {
   "cell_type": "markdown",
   "id": "1256d518",
   "metadata": {},
   "source": [
    "-------------------------------------------------------------------------------------------------------------------------------\n",
    "### Practical 1.2.1. Program to add two numbers :"
   ]
  },
  {
   "cell_type": "code",
   "execution_count": 8,
   "id": "e4aaa12a",
   "metadata": {},
   "outputs": [
    {
     "name": "stdout",
     "output_type": "stream",
     "text": [
      "Enter the first number : 10\n",
      "Enter the second number : 5\n",
      "The sum is : 15\n"
     ]
    }
   ],
   "source": [
    "# Aim : Program to add two numbers \n",
    "\n",
    "# Taking user input\n",
    "a = int(input(\"Enter the first number : \"))\n",
    "b = int(input(\"Enter the second number : \"))\n",
    "\n",
    "# Calculating the sum\n",
    "sum = a + b\n",
    "# Printing the sum\n",
    "print(\"The sum is :\",sum)"
   ]
  },
  {
   "cell_type": "markdown",
   "id": "10651086",
   "metadata": {},
   "source": [
    "-------------------------------------------------------------------------------------------------------------------------------\n",
    "### Practical 1.2.2. Program representating all four mathematical operations :"
   ]
  },
  {
   "cell_type": "code",
   "execution_count": 9,
   "id": "add30d1d",
   "metadata": {},
   "outputs": [
    {
     "name": "stdout",
     "output_type": "stream",
     "text": [
      "Enter the first number : 10\n",
      "Enter the second number : 5\n",
      "\n",
      "The sum is : 15\n",
      "The substration is : 5\n",
      "The product is : 50\n",
      "The division is : 2.0\n"
     ]
    }
   ],
   "source": [
    "# Aim : Program representating all four mathematical operations\n",
    "\n",
    "# Taking user input\n",
    "a = int(input(\"Enter the first number : \"))\n",
    "b = int(input(\"Enter the second number : \"))\n",
    "\n",
    "# Addition\n",
    "sum = a + b\n",
    "print(\"\\nThe sum is :\",sum)\n",
    "\n",
    "# Substraction\n",
    "sub = a - b\n",
    "print(\"The substration is :\",sub)\n",
    "\n",
    "# Multiplication\n",
    "product =  a * b\n",
    "print(\"The product is :\",product)\n",
    "\n",
    "# Division\n",
    "divide = a / b\n",
    "print(\"The division is :\",divide)"
   ]
  },
  {
   "cell_type": "markdown",
   "id": "e6152b01",
   "metadata": {},
   "source": [
    "-------------------------------------------------------------------------------------------------------------------------------\n",
    "### 1.2.1. Multiple assignments in python :"
   ]
  },
  {
   "cell_type": "code",
   "execution_count": 11,
   "id": "ca10dad8",
   "metadata": {},
   "outputs": [
    {
     "name": "stdout",
     "output_type": "stream",
     "text": [
      "a = 4 \n",
      "b = 5 \n",
      "c = Neotech\n",
      "\n",
      "a = 1 \n",
      "b = 1 \n",
      "c = 1\n"
     ]
    }
   ],
   "source": [
    "# Multiple variable assignments in Python\n",
    "\n",
    "# Assignment 1\n",
    "a,b,c = 4,5,\"Neotech\"\n",
    "print(\"a =\",a,\"\\nb =\",b,\"\\nc =\",c)\n",
    "\n",
    "# Assignment 2\n",
    "a = b = c = 1\n",
    "print(\"\\na =\",a,\"\\nb =\",b,\"\\nc =\",c)"
   ]
  },
  {
   "cell_type": "markdown",
   "id": "0529bca6",
   "metadata": {},
   "source": [
    "-------------------------------------------------------------------------------------------------------------------------------\n",
    "### 1.2.2. Use of separator attribute :"
   ]
  },
  {
   "cell_type": "code",
   "execution_count": 10,
   "id": "d6aec0db",
   "metadata": {},
   "outputs": [
    {
     "name": "stdout",
     "output_type": "stream",
     "text": [
      "100-10000-Vinayak\n"
     ]
    }
   ],
   "source": [
    "# Use of separator attribute\n",
    "\n",
    "count = 100\n",
    "km = 10000\n",
    "name = \"Vinayak\"\n",
    "print(count, km, name, sep=\"-\")"
   ]
  },
  {
   "cell_type": "markdown",
   "id": "25297a31",
   "metadata": {},
   "source": [
    "-------------------------------------------------------------------------------------------------------------------------------\n",
    "## 1.3. Data-types in Python :\n",
    "\n",
    "    Following are the valid data-types in Python :\n",
    "\n",
    "    1. Numerical :\n",
    "        a. int\n",
    "        b. float\n",
    "        c. complex\n",
    "    2. Strings\n",
    "    3. Boolean\n",
    "    4. Lists\n",
    "    5. Tuples\n",
    "    6. Dictionary\n",
    "    7. Sets\n",
    "\n",
    "    A) Mutable Data-types :\n",
    "        Data-types whose values can be modified at any instance of the program are called mutable data-types.\n",
    "        Example : List, Set, Dictionary\n",
    "\n",
    "    B) Im-mutable Data-types :\n",
    "        Data-types whose values can not be modified or changed after declaring it are called im-mutable datatypes.\n",
    "        Example : Int, Float, String, Tuple, Boolean"
   ]
  },
  {
   "cell_type": "markdown",
   "id": "b1116953",
   "metadata": {},
   "source": [
    "-------------------------------------------------------------------------------------------------------------------------------\n",
    "### 1.3.1. Use of type() method :"
   ]
  },
  {
   "cell_type": "code",
   "execution_count": 14,
   "id": "626dfc7e",
   "metadata": {},
   "outputs": [
    {
     "name": "stdout",
     "output_type": "stream",
     "text": [
      "<class 'int'>\n",
      "<class 'float'>\n",
      "<class 'complex'>\n",
      "<class 'str'>\n",
      "<class 'bool'>\n"
     ]
    }
   ],
   "source": [
    "# Declaring variables\n",
    "a = 5\n",
    "b = 10.0\n",
    "c = 3.14j\n",
    "d = \"Vinayak\"\n",
    "e = True\n",
    "\n",
    "# For checking the Data-type of the Variable, use type() method\n",
    "print(type(a))\n",
    "print(type(b))\n",
    "print(type(c))\n",
    "print(type(d))\n",
    "print(type(e))"
   ]
  },
  {
   "cell_type": "markdown",
   "id": "0c9862ef",
   "metadata": {},
   "source": [
    "-------------------------------------------------------------------------------------------------------------------------------\n",
    "## 1.4. Strings in python :"
   ]
  },
  {
   "cell_type": "code",
   "execution_count": 6,
   "id": "a478eed1",
   "metadata": {},
   "outputs": [
    {
     "name": "stdout",
     "output_type": "stream",
     "text": [
      "My Name is Kala Jadoo\n"
     ]
    }
   ],
   "source": [
    "# STRINGS in Python\n",
    "\n",
    "# Declaring a String\n",
    "str = \"My Name is Kala Jadoo\"\n",
    "print(str)"
   ]
  },
  {
   "cell_type": "markdown",
   "id": "c2afdc13",
   "metadata": {},
   "source": [
    "-------------------------------------------------------------------------------------------------------------------------------\n",
    "### 1.4.1. String Operations in python :"
   ]
  },
  {
   "cell_type": "markdown",
   "id": "f7941b37",
   "metadata": {},
   "source": [
    "### 1. Concatenation :"
   ]
  },
  {
   "cell_type": "code",
   "execution_count": 15,
   "id": "8301b0f0",
   "metadata": {},
   "outputs": [
    {
     "name": "stdout",
     "output_type": "stream",
     "text": [
      "I like Python. It is one of the most robust Programming language.\n"
     ]
    }
   ],
   "source": [
    "# String Operations in Python\n",
    "\n",
    "# Concatenating two strings\n",
    "str1 = \"I like Python.\"\n",
    "str2 = \" It is one of the most robust Programming language.\"\n",
    "\n",
    "str3 = str1 + str2\n",
    "print(str3)"
   ]
  },
  {
   "cell_type": "markdown",
   "id": "fe8d7e08",
   "metadata": {},
   "source": [
    "### 2. String indexing :"
   ]
  },
  {
   "cell_type": "code",
   "execution_count": 51,
   "id": "d3a8bb7c",
   "metadata": {},
   "outputs": [
    {
     "name": "stdout",
     "output_type": "stream",
     "text": [
      "Positive indexing :\n",
      "G\n",
      "c\n",
      "l\n",
      "t\n",
      "y\n",
      "\n",
      "Negative indexing :\n",
      "y\n",
      "r\n",
      "U\n",
      "n\n",
      "j\n"
     ]
    }
   ],
   "source": [
    "# Indexing in Python\n",
    "\n",
    "# In Python Programming Language, the first index from the left side is considered to be 0 whereas the first index from the right side is considered to be -1.\n",
    "str = \"Gujarat Technological University\"\n",
    "\n",
    "# Targeting the letter present at a particular index using positive indexing.\n",
    "print(\"Positive indexing :\")\n",
    "print(str[0])\n",
    "print(str[10])\n",
    "print(str[20])\n",
    "print(str[30])\n",
    "print(str[31])\n",
    "\n",
    "# Targeting the letter present at a particular index using negative indexing.\n",
    "print(\"\\nNegative indexing :\")\n",
    "print(str[-1])\n",
    "print(str[-5])\n",
    "print(str[-10])\n",
    "print(str[-20])\n",
    "print(str[-30])"
   ]
  },
  {
   "cell_type": "markdown",
   "id": "ae007eb2",
   "metadata": {},
   "source": [
    "### 3. String Slicing :"
   ]
  },
  {
   "cell_type": "code",
   "execution_count": 4,
   "id": "fd069647",
   "metadata": {},
   "outputs": [
    {
     "name": "stdout",
     "output_type": "stream",
     "text": [
      "Positive slicing :\n",
      "My\n",
      "Name\n",
      "is\n",
      "Kala\n",
      "Jadoo\n",
      "\n",
      "Negative slicing :\n",
      "My\n",
      "Name\n",
      "is\n",
      "Kala\n",
      "Jadoo\n"
     ]
    }
   ],
   "source": [
    "# Slicing in Python\n",
    "# Synatx : string_name[lower_range:upper_range]\n",
    "\n",
    "# ***Important***#\n",
    "# While positive slicing, the lower range is inclusive but upper range is exclusive\n",
    "# While negative slicing, the lower range is exclusive but upper range is inclusive\n",
    "\n",
    "str = \"My Name is Kala Jadoo \"\n",
    "print(\"Positive slicing :\")\n",
    "print(str[0:2])\n",
    "print(str[3:7])\n",
    "print(str[8:10])\n",
    "print(str[11:15])\n",
    "print(str[16:21])\n",
    "\n",
    "print(\"\\nNegative slicing :\")\n",
    "print(str[-22:-20])\n",
    "print(str[-19:-15])\n",
    "print(str[-14:-12])\n",
    "print(str[-11:-7])\n",
    "print(str[-6:-1])"
   ]
  },
  {
   "cell_type": "markdown",
   "id": "d305ce88",
   "metadata": {},
   "source": [
    "### 4. String Length : "
   ]
  },
  {
   "cell_type": "code",
   "execution_count": 37,
   "id": "c67e4190",
   "metadata": {},
   "outputs": [
    {
     "name": "stdout",
     "output_type": "stream",
     "text": [
      "32\n"
     ]
    }
   ],
   "source": [
    "# Finding the length of a given string\n",
    "# Use the len() function\n",
    "\n",
    "str = \"Gujarat Technological University\"\n",
    "print(len(str))"
   ]
  },
  {
   "cell_type": "markdown",
   "id": "9f8a1f33",
   "metadata": {},
   "source": [
    "-------------------------------------------------------------------------------------------------------------------------------\n",
    "## Dealing with memory locations :"
   ]
  },
  {
   "cell_type": "code",
   "execution_count": 40,
   "id": "ac0b2a62",
   "metadata": {},
   "outputs": [
    {
     "name": "stdout",
     "output_type": "stream",
     "text": [
      "1884293458224\n",
      "1884293458224\n",
      "1884293458224\n",
      "1884293458224\n"
     ]
    }
   ],
   "source": [
    "# Fun fact :\n",
    "# Assigning same value to multiple variables and checking the location where the variables are stored in the memory\n",
    "\n",
    "a = b = c = 1\n",
    "\n",
    "# Use id() function to check the memory location where the variable is stored\n",
    "print(id(a))\n",
    "print(id(b))\n",
    "print(id(c))\n",
    "\n",
    "# All the variables (a,b,c) are stored at the same memory locations.\n",
    "# This is because in python, memory location is assigned to the value(value of the variable is 1 in our case) of the numeric data-types.\n",
    "# Hence the memory location 1884293458224 is allocated to the value of variable i.e. 1\n",
    "\n",
    "# If we create another variable x and assign the same value 1 to that variable, you will see that the memory assigned to x variable will be same as a,b,c variables\n",
    "\n",
    "x = 1\n",
    "print(id(x))\n",
    "\n",
    "# Hence in python, Numeric data-types are im-mutable"
   ]
  },
  {
   "cell_type": "markdown",
   "id": "75916033",
   "metadata": {},
   "source": [
    "-------------------------------------------------------------------------------------------------------------------------------\n",
    "### 1.4.2. Use of format() method :"
   ]
  },
  {
   "cell_type": "code",
   "execution_count": 19,
   "id": "d32fec75",
   "metadata": {},
   "outputs": [
    {
     "name": "stdout",
     "output_type": "stream",
     "text": [
      "Python Programming Language\n"
     ]
    }
   ],
   "source": [
    "# Use of the format method in string operations\n",
    "\n",
    "str = \"{} {} {}\".format(\"Python\",\"Programming\",\"Language\")\n",
    "print(str)"
   ]
  },
  {
   "cell_type": "markdown",
   "id": "a0d58953",
   "metadata": {},
   "source": [
    "-------------------------------------------------------------------------------------------------------------------------------\n",
    "## 1.5. Lists in python :"
   ]
  },
  {
   "cell_type": "markdown",
   "id": "dc8bafc4",
   "metadata": {},
   "source": [
    "### 1.5.1. List operations in python :"
   ]
  },
  {
   "cell_type": "code",
   "execution_count": 26,
   "id": "07b82aa6",
   "metadata": {
    "scrolled": false
   },
   "outputs": [
    {
     "name": "stdout",
     "output_type": "stream",
     "text": [
      "List is : [10, 30, 'Audi', 'BMW', 'Ferrari']\n",
      "\n",
      "\n",
      "The data-type is : <class 'list'>\n",
      "\n",
      "\n",
      "Modified list is : [10, 30, 'Audi', 'BMW', 'Scorpio']\n",
      "\n",
      "\n",
      "Concatenating two lists : [10, 20, 30, 40, 'TATAMOTORS', 'EICHERMOTORS', 'HEROMOTOCO', 'MARUTI', 'M&M']\n",
      "\n",
      "\n",
      "Productive property of list : ['TATAMOTORS', 'EICHERMOTORS', 'HEROMOTOCO', 'MARUTI', 'M&M', 'TATAMOTORS', 'EICHERMOTORS', 'HEROMOTOCO', 'MARUTI', 'M&M']\n"
     ]
    }
   ],
   "source": [
    "# List data-type in python\n",
    "\n",
    "# Unlike arrays in C, List can support different data-types\n",
    "# Lists are mutable objects\n",
    "# Always use square brackets [] while declaring a list.\n",
    "\n",
    "# Declaring a list in python\n",
    "list1 = [10,30,\"Audi\",\"BMW\",\"Ferrari\"]\n",
    "print(\"List is :\",list1)\n",
    "\n",
    "# Checking the data-type of list\n",
    "print(\"\\n\")\n",
    "print(\"The data-type is :\",type(list1))\n",
    "\n",
    "# Modifing a list element\n",
    "list1[4] = \"Scorpio\"\n",
    "print(\"\\n\")\n",
    "print(\"Modified list is :\",list1)\n",
    "\n",
    "# Concatenating two lists\n",
    "list1 = [10,20,30,40]\n",
    "list2 = [\"TATAMOTORS\",\"EICHERMOTORS\",\"HEROMOTOCO\",\"MARUTI\",\"M&M\"]\n",
    "\n",
    "list3 = list1 + list2\n",
    "print(\"\\n\")\n",
    "print(\"Concatenating two lists :\",list3)\n",
    "\n",
    "# Productive property of List in Python\n",
    "list1 = list2 * 2\n",
    "print(\"\\n\")\n",
    "print(\"Productive property of list :\",list1)"
   ]
  },
  {
   "cell_type": "markdown",
   "id": "a4c5da98",
   "metadata": {},
   "source": [
    "-------------------------------------------------------------------------------------------------------------------------------\n",
    "### 1.5.2. Indexing and slicing in lists :"
   ]
  },
  {
   "cell_type": "code",
   "execution_count": 8,
   "id": "731b081a",
   "metadata": {},
   "outputs": [
    {
     "name": "stdout",
     "output_type": "stream",
     "text": [
      "Positive Indexing :\n",
      "10\n",
      "30\n",
      "Audi\n",
      "BMW\n",
      "Ferrari\n",
      "\n",
      "Negative Indexing :\n",
      "Ferrari\n",
      "BMW\n",
      "Audi\n",
      "30\n",
      "10\n",
      "\n",
      "Positive slicing :\n",
      "[10, 30, 'Audi']\n",
      "\n",
      "Negative slicing :\n",
      "['Audi', 'BMW']\n"
     ]
    }
   ],
   "source": [
    "# Indexing and Slicing in Lists\n",
    "\n",
    "# It works similar to that in Strings\n",
    "# Indexing starts from 0 from the left side while -1 from the right\n",
    "\n",
    "list = [10,30,\"Audi\",\"BMW\",\"Ferrari\"]\n",
    "\n",
    "# Targeting the element present at a particular index in the list using positive indexing\n",
    "print(\"Positive Indexing :\")\n",
    "print(list[0])\n",
    "print(list[1])\n",
    "print(list[2])\n",
    "print(list[3])\n",
    "print(list[4])\n",
    "\n",
    "# Targeting the element present at a particular index in the list using negative indexing\n",
    "print(\"\\nNegative Indexing :\")\n",
    "print(list[-1])\n",
    "print(list[-2])\n",
    "print(list[-3])\n",
    "print(list[-4])\n",
    "print(list[-5])\n",
    "\n",
    "# Slicing in List \n",
    "\n",
    "# While postive slicing the lower range is inclusive and upper range is exclusive\n",
    "print(\"\\nPositive slicing :\")\n",
    "print(list[0:3])\n",
    "\n",
    "# While negative slicing the lower range is exclusive and upper range is inclusive\n",
    "print(\"\\nNegative slicing :\")\n",
    "print(list[-3:-1])"
   ]
  },
  {
   "cell_type": "markdown",
   "id": "249cbab5",
   "metadata": {},
   "source": [
    "-------------------------------------------------------------------------------------------------------------------------------\n",
    "## 1.6. Tuples in python :"
   ]
  },
  {
   "cell_type": "code",
   "execution_count": 28,
   "id": "0a757c31",
   "metadata": {},
   "outputs": [
    {
     "name": "stdout",
     "output_type": "stream",
     "text": [
      "The Tuple is : (10, 20, 'TATASTEEL', 'ADANIGREEN', 'BAJAJAUTO')\n"
     ]
    }
   ],
   "source": [
    "# Tuple data-type in python\n",
    "\n",
    "# Unlike arrays in C, Tuples can support different data-types\n",
    "# Tuples are im-mutable objects\n",
    "# Always use parenthesis () while declaring a tuple.\n",
    "\n",
    "# Declaring a tuple in python\n",
    "tuple = (10,20,\"TATASTEEL\",\"ADANIGREEN\",\"BAJAJAUTO\")\n",
    "print(\"The Tuple is :\",tuple)"
   ]
  },
  {
   "cell_type": "markdown",
   "id": "972b726b",
   "metadata": {},
   "source": [
    "-------------------------------------------------------------------------------------------------------------------------------\n",
    "## 1.7. Dictionary in python :"
   ]
  },
  {
   "cell_type": "code",
   "execution_count": 31,
   "id": "91e670a0",
   "metadata": {},
   "outputs": [
    {
     "name": "stdout",
     "output_type": "stream",
     "text": [
      "Stocks of Tata Group are : {1: 'TATASTEEL', 2: 'TATAMOTORS', 3: 'TATACHEMICALS', 4: 'TCS', 5: 'TATACOFFE', 6: 'TATACONS'}\n",
      "\n",
      "After Modifing : {1: 'TATASTEEL', 2: 'TATAMTRDVR', 3: 'TATACHEMICALS', 4: 'TCS', 5: 'TATACOFFE', 6: 'TATACONS'}\n",
      "\n",
      "Element associated with key = 3 : TATACHEMICALS\n"
     ]
    }
   ],
   "source": [
    "# Dictionary data-type in python\n",
    "\n",
    "# Syntax : {key : value}\n",
    "# In python dictionary, each element has a key and a value associated with that key.\n",
    "# Dictionary is a mutable data-type\n",
    "\n",
    "TataStocks = {1:\"TATASTEEL\",2:\"TATAMOTORS\",3:\"TATACHEMICALS\",4:\"TCS\",5:\"TATACOFFE\",6:\"TATACONS\"}\n",
    "print(\"Stocks of Tata Group are :\",TataStocks)\n",
    "\n",
    "# Modifing a dictionary\n",
    "TataStocks[2] = \"TATAMTRDVR\"\n",
    "print(\"\\nAfter Modifing :\",TataStocks)\n",
    "\n",
    "# In dictionary, element can searched by using the key associated with it.\n",
    "print(\"\\nElement associated with key = 3 :\",TataStocks[3])"
   ]
  },
  {
   "cell_type": "markdown",
   "id": "7496addb",
   "metadata": {},
   "source": [
    "-------------------------------------------------------------------------------------------------------------------------------\n",
    "## 1.8. Conditional statements in python :\n",
    "\n",
    "    Important : Please make proper uses of spaces and tabs in conditional and looping statements"
   ]
  },
  {
   "cell_type": "markdown",
   "id": "c45cbea8",
   "metadata": {},
   "source": [
    "### 1. if-else statements\n",
    "\n",
    "    Syntax : \n",
    "    if (condition) :\n",
    "        statements to be executed if the condition is true\n",
    "    else :\n",
    "        statements to be executed if the condition is false"
   ]
  },
  {
   "cell_type": "markdown",
   "id": "c8c81862",
   "metadata": {},
   "source": [
    "### Practical 1.8.1. Write a program to check whether a number is even or odd using if-else statements."
   ]
  },
  {
   "cell_type": "code",
   "execution_count": 3,
   "id": "791ca794",
   "metadata": {},
   "outputs": [
    {
     "name": "stdout",
     "output_type": "stream",
     "text": [
      "Please enter a number :10\n",
      "\n",
      "10 is a even number\n"
     ]
    }
   ],
   "source": [
    "# Aim : Write a program to check whether a number is even or odd using if-else statements.\n",
    "\n",
    "# Taking number input from the user\n",
    "n = int(input(\"Please enter a number :\"))\n",
    "\n",
    "# Using if-else\n",
    "if (n % 2 == 0) :\n",
    "    print(\"\\n%d is a even number\"%(n))\n",
    "else :\n",
    "    print(\"\\n%d is a odd number\"%(n))"
   ]
  },
  {
   "cell_type": "markdown",
   "id": "0d82a7e2",
   "metadata": {},
   "source": [
    "-------------------------------------------------------------------------------------------------------------------------------\n",
    "### 2. Nested if-else statements\n",
    "\n",
    "    Syntax :\n",
    "    if (condition) :\n",
    "        if (condition) :\n",
    "            statements to be executed if the condition is true\n",
    "        else :\n",
    "            statements to be executed if the condition is false\n",
    "    else :\n",
    "        statement to be executed if the condition is false"
   ]
  },
  {
   "cell_type": "markdown",
   "id": "a39f8413",
   "metadata": {},
   "source": [
    "### Practical 1.8.2. Write a program to check whether a number is positive or negative using nested if-else statements."
   ]
  },
  {
   "cell_type": "code",
   "execution_count": 4,
   "id": "be3e70d0",
   "metadata": {},
   "outputs": [
    {
     "name": "stdout",
     "output_type": "stream",
     "text": [
      "Enter the number : -8\n",
      "\n",
      "-8 is a negative number\n"
     ]
    }
   ],
   "source": [
    "# Aim : Write a program to check whether a number is positive or negative using nested if-else statements\n",
    "\n",
    "# Taking input from the user\n",
    "n = int(input(\"Enter the number : \"))\n",
    "\n",
    "# Using nested if-else\n",
    "if n >= 0 :\n",
    "    if n == 0:\n",
    "        print(\"\\n\",n,\"is Zero\")\n",
    "    else :\n",
    "        print(\"\\n%d is a positive number\"%(n))\n",
    "else :\n",
    "    print(\"\\n%d is a negative number\"%(n))"
   ]
  },
  {
   "cell_type": "markdown",
   "id": "85c80bad",
   "metadata": {},
   "source": [
    "-------------------------------------------------------------------------------------------------------------------------------\n",
    "### 3. if-elif-else (if-else ladder) statements :\n",
    "\n",
    "    Like Java and C, Python also supports if-else ladder\n",
    "\n",
    "    Syntax\n",
    "    if (condition) :\n",
    "        statements to be executed if condition is true\n",
    "    elif (condition) :\n",
    "        statement to be executed if the condition is true\n",
    "    else :\n",
    "        statement to be executed if the condition is false"
   ]
  },
  {
   "cell_type": "markdown",
   "id": "433fa0a5",
   "metadata": {},
   "source": [
    "### Practical 1.8.3. Write a program which asks the user for his favourite stocks from the given options using if-else ladder."
   ]
  },
  {
   "cell_type": "code",
   "execution_count": 11,
   "id": "22a8593b",
   "metadata": {},
   "outputs": [
    {
     "name": "stdout",
     "output_type": "stream",
     "text": [
      "Chose any one from the options given below\n",
      "1.INFOSYS\n",
      "2.WIPRO\n",
      "3.TATA CONSULTANCY SERVICES\n",
      "4.TECH MAHINDRA\n",
      "\n",
      "Enter your choice : -1\n",
      "Enter a valid number....\n"
     ]
    }
   ],
   "source": [
    "# Aim : Write a program which asks the user for his favourite stocks from the given options using if-else ladder\n",
    "\n",
    "print(\"Chose any one from the options given below\")\n",
    "print(\"1.INFOSYS\")\n",
    "print(\"2.WIPRO\")\n",
    "print(\"3.TATA CONSULTANCY SERVICES\")\n",
    "print(\"4.TECH MAHINDRA\")\n",
    "\n",
    "# Taking input from the user\n",
    "choice = int(input(\"\\nEnter your choice : \"))\n",
    "\n",
    "if choice <= 4: \n",
    "    # if-elif-else ladder\n",
    "    if choice == 1:\n",
    "        print(\"Your favourite stock is : INFOSYS\")\n",
    "    elif choice == 2:\n",
    "        print(\"Your favourite stock is : WIPRO\")\n",
    "    elif choice == 3:\n",
    "        print(\"Your favourite stock is : TATA CONSULTANCY SERVICES\")\n",
    "    elif choice == 4:\n",
    "        print(\"Your favourite stock is : TECH MAHINDRA\")\n",
    "    else :\n",
    "        print(\"Enter a valid number....\")\n",
    "else :\n",
    "    print(\"\\nInvalid input \")"
   ]
  },
  {
   "cell_type": "markdown",
   "id": "30b1fc3d",
   "metadata": {},
   "source": [
    "-------------------------------------------------------------------------------------------------------------------------------\n",
    "## 1.9. Looping statements in python\n",
    "\n",
    "    Python supports two types of loops :\n",
    "        1. While loop\n",
    "        2. For loop"
   ]
  },
  {
   "cell_type": "markdown",
   "id": "f0698cef",
   "metadata": {},
   "source": [
    "### 1. While loops in Python\n",
    "\n",
    "    Syntax :\n",
    "\n",
    "    while (termination condition) :\n",
    "        statements to be executed unless the termination condition is satisfied"
   ]
  },
  {
   "cell_type": "markdown",
   "id": "1f525d67",
   "metadata": {},
   "source": [
    "### Practical 1.9.1. Write a program which counts from 0 to 10 and then says \"Good Bye...\" using while loop."
   ]
  },
  {
   "cell_type": "code",
   "execution_count": 14,
   "id": "617501b3",
   "metadata": {},
   "outputs": [
    {
     "name": "stdout",
     "output_type": "stream",
     "text": [
      "The count is : 0\n",
      "The count is : 1\n",
      "The count is : 2\n",
      "The count is : 3\n",
      "The count is : 4\n",
      "The count is : 5\n",
      "The count is : 6\n",
      "The count is : 7\n",
      "The count is : 8\n",
      "The count is : 9\n",
      "The count is : 10\n",
      "Good Bye...\n"
     ]
    }
   ],
   "source": [
    "# Aim : Write a program which counts from 0 to 10 and then says \"Good Bye...\" using while loop.\n",
    "\n",
    "count = 0\n",
    "while (count <= 10) :\n",
    "    print(\"The count is :\",count)\n",
    "    count = count + 1\n",
    "print(\"Good Bye...\")"
   ]
  },
  {
   "cell_type": "markdown",
   "id": "f42b1e64",
   "metadata": {},
   "source": [
    "-------------------------------------------------------------------------------------------------------------------------------\n",
    "### Practical 1.9.2. Write a program to print a given string n number of times using while loop."
   ]
  },
  {
   "cell_type": "code",
   "execution_count": 7,
   "id": "ec5f6133",
   "metadata": {},
   "outputs": [
    {
     "name": "stdout",
     "output_type": "stream",
     "text": [
      "Enter the number of times the string to be printed : 5\n",
      "Enter the string : My name is Kala Jadoo\n",
      "My name is Kala Jadoo\n",
      "My name is Kala Jadoo\n",
      "My name is Kala Jadoo\n",
      "My name is Kala Jadoo\n",
      "My name is Kala Jadoo\n",
      "Thank you....!\n"
     ]
    }
   ],
   "source": [
    "# Aim : Write a program to print a given string n number of times using while loop\n",
    "\n",
    "# Taking inputs from the user\n",
    "n = int(input(\"Enter the number of times the string to be printed : \"))\n",
    "str = input(\"Enter the string : \")\n",
    "\n",
    "count = 1\n",
    "while (count <= n) :\n",
    "    print(str)\n",
    "    count = count + 1\n",
    "print(\"Thank you....!\")"
   ]
  },
  {
   "cell_type": "markdown",
   "id": "d31d52e6",
   "metadata": {},
   "source": [
    "-------------------------------------------------------------------------------------------------------------------------------\n",
    "### Practical 1.9.3. Write a program to print mathematical table of any given number using while loop."
   ]
  },
  {
   "cell_type": "code",
   "execution_count": 9,
   "id": "b5572e78",
   "metadata": {},
   "outputs": [
    {
     "name": "stdout",
     "output_type": "stream",
     "text": [
      "Enter the number : 19\n",
      "19 X 1 = 19\n",
      "19 X 2 = 38\n",
      "19 X 3 = 57\n",
      "19 X 4 = 76\n",
      "19 X 5 = 95\n",
      "19 X 6 = 114\n",
      "19 X 7 = 133\n",
      "19 X 8 = 152\n",
      "19 X 9 = 171\n",
      "19 X 10 = 190\n"
     ]
    }
   ],
   "source": [
    "# Aim : Write a program to print mathematical table of any given number using while loop\n",
    "\n",
    "# Taking input from the user\n",
    "n = int(input(\"Enter the number : \"))\n",
    "count = 1\n",
    "\n",
    "while (count <= 10) :\n",
    "    product = n * count\n",
    "    print(\"%d X %d = %d\"%(n,count,product))\n",
    "    count = count + 1"
   ]
  },
  {
   "cell_type": "markdown",
   "id": "eb5fbe96",
   "metadata": {},
   "source": [
    "-------------------------------------------------------------------------------------------------------------------------------\n",
    "### Practical 1.9.4. Syncing while loop and else statement :"
   ]
  },
  {
   "cell_type": "code",
   "execution_count": 10,
   "id": "090eeac8",
   "metadata": {},
   "outputs": [
    {
     "name": "stdout",
     "output_type": "stream",
     "text": [
      "0 is less than 5\n",
      "1 is less than 5\n",
      "2 is less than 5\n",
      "3 is less than 5\n",
      "4 is less than 5\n",
      "5 is not less than 5\n"
     ]
    }
   ],
   "source": [
    "# Special case in python\n",
    "# Using else statement with while loop\n",
    "\n",
    "# Aim : Write a program to print all the numbers starting from 0 which are less than 5\n",
    "count = 0\n",
    "while (count < 5) :\n",
    "    print(count, \"is less than 5\")\n",
    "    count = count + 1\n",
    "else :\n",
    "    print(count, \"is not less than 5\")"
   ]
  },
  {
   "cell_type": "markdown",
   "id": "96879094",
   "metadata": {},
   "source": [
    "-------------------------------------------------------------------------------------------------------------------------------\n",
    "### 2. For loop in Python\n",
    "\n",
    "    Syntax :\n",
    "\n",
    "    for variable in range :\n",
    "        statements to be executed unless the termination condition is satisfied"
   ]
  },
  {
   "cell_type": "markdown",
   "id": "502eee16",
   "metadata": {},
   "source": [
    "### Practical 1.9.5. Write a program which prints each alphabet from a given word using for loop."
   ]
  },
  {
   "cell_type": "code",
   "execution_count": 11,
   "id": "5f2d213c",
   "metadata": {},
   "outputs": [
    {
     "name": "stdout",
     "output_type": "stream",
     "text": [
      "Current letter is :  V\n",
      "Current letter is :  I\n",
      "Current letter is :  N\n",
      "Current letter is :  A\n",
      "Current letter is :  Y\n",
      "Current letter is :  A\n",
      "Current letter is :  K\n"
     ]
    }
   ],
   "source": [
    "# Aim : Write a program which prints each alphabet from a given word using for loop\n",
    "\n",
    "for letter in \"VINAYAK\" :\n",
    "    print(\"Current letter is : \",letter)"
   ]
  },
  {
   "cell_type": "markdown",
   "id": "98fb77e9",
   "metadata": {},
   "source": [
    "-------------------------------------------------------------------------------------------------------------------------------\n",
    "### Practical 1.9.6. Write a program which prints each element from a given list using for loop."
   ]
  },
  {
   "cell_type": "code",
   "execution_count": 12,
   "id": "bc26ed32",
   "metadata": {},
   "outputs": [
    {
     "name": "stdout",
     "output_type": "stream",
     "text": [
      "Current stock is :  TATASTEEL\n",
      "Current stock is :  TATAMOTORS\n",
      "Current stock is :  TCS\n"
     ]
    }
   ],
   "source": [
    "# Aim : Write a program which prints each element from a given list using for loop\n",
    "\n",
    "stocks = [\"TATASTEEL\",\"TATAMOTORS\",\"TCS\"]\n",
    "for stocks in stocks :\n",
    "    print(\"Current stock is : \", stocks)"
   ]
  },
  {
   "cell_type": "markdown",
   "id": "6f3474d2",
   "metadata": {},
   "source": [
    "-------------------------------------------------------------------------------------------------------------------------------\n",
    "### Practical 1.9.7.  Write a program to print all the numbers starting from 0 to a given range using for loop."
   ]
  },
  {
   "cell_type": "code",
   "execution_count": 13,
   "id": "e3088a48",
   "metadata": {},
   "outputs": [
    {
     "name": "stdout",
     "output_type": "stream",
     "text": [
      "0\n",
      "1\n",
      "2\n",
      "3\n",
      "4\n",
      "5\n",
      "6\n",
      "7\n",
      "8\n",
      "9\n"
     ]
    }
   ],
   "source": [
    "# Aim : Write a program to print all the numbers starting from 0 to a given range using for loop\n",
    "# NOTE : Here the range element is exclusive\n",
    "\n",
    "for i in range(10) :\n",
    "    print(i)"
   ]
  },
  {
   "cell_type": "markdown",
   "id": "13d5bbe0",
   "metadata": {},
   "source": [
    "-------------------------------------------------------------------------------------------------------------------------------\n",
    "### Practical 1.9.8. Combining looping and conditional statements : "
   ]
  },
  {
   "cell_type": "code",
   "execution_count": 14,
   "id": "c544fdce",
   "metadata": {},
   "outputs": [
    {
     "name": "stdout",
     "output_type": "stream",
     "text": [
      "10 equals 2*5\n",
      "11 is a prime number\n",
      "12 equals 2*6\n",
      "13 is a prime number\n",
      "14 equals 2*7\n",
      "15 is a prime number\n",
      "16 equals 2*8\n",
      "17 is a prime number\n",
      "18 equals 2*9\n",
      "19 is a prime number\n"
     ]
    }
   ],
   "source": [
    "# Aim : Combining looping and conditional statements\n",
    "# Use break keyword to jump out of any conditional or looping statement\n",
    "for num in range(10,20):\n",
    "    for i in range(2,num):\n",
    "        if num%i==0:\n",
    "            j = num / i\n",
    "            print(\"%d equals %d*%d\"%(num,i,j))\n",
    "            break # breaks out of the conditional statements\n",
    "        else :\n",
    "            print(num, \"is a prime number\")\n",
    "            break"
   ]
  },
  {
   "cell_type": "markdown",
   "id": "d7d49e69",
   "metadata": {},
   "source": [
    "-------------------------------------------------------------------------------------------------------------------------------\n",
    "## 1.10. Use of import() statement :"
   ]
  },
  {
   "cell_type": "code",
   "execution_count": 31,
   "id": "54b32f46",
   "metadata": {},
   "outputs": [
    {
     "name": "stdout",
     "output_type": "stream",
     "text": [
      "The value of pi is : 3.141592653589793\n",
      "The value of exponential is : 2.718281828459045\n"
     ]
    }
   ],
   "source": [
    "# Import() function in python\n",
    "\n",
    "# Whenever we want to use any library in python programming language, we first need to import that library using the import() fucntion\n",
    "\n",
    "# Importing library called math\n",
    "import math\n",
    "\n",
    "# Printing values of pi and e using math library\n",
    "print(\"The value of pi is :\",math.pi)\n",
    "print(\"The value of exponential is :\",math.e)"
   ]
  },
  {
   "cell_type": "markdown",
   "id": "7d4c2f50",
   "metadata": {},
   "source": [
    "-------------------------------------------------------------------------------------------------------------------------------\n",
    "### Practical 1.10.1. Write a program to find the area of a circle. (Use the math library for calculating the value of pi)"
   ]
  },
  {
   "cell_type": "code",
   "execution_count": 15,
   "id": "0684c83d",
   "metadata": {},
   "outputs": [
    {
     "name": "stdout",
     "output_type": "stream",
     "text": [
      "Enter the radius : 5.57\n",
      "Area is : 97.467598\n"
     ]
    }
   ],
   "source": [
    "# Aim : Write a program to find the area of a circle (Use the math library for calculating the value of pi)\n",
    "\n",
    "# Importing math library\n",
    "import math\n",
    "\n",
    "# Taking user input for radius\n",
    "r = float(input(\"Enter the radius : \"))\n",
    "\n",
    "# Calculating area of the circle\n",
    "area = math.pi * r * r \n",
    "print(\"Area is : %f\"%(area))"
   ]
  },
  {
   "cell_type": "markdown",
   "id": "657ef1d5",
   "metadata": {},
   "source": [
    "-------------------------------------------------------------------------------------------------------------------------------\n",
    "## 1.11. Functions in python\n",
    "\n",
    "    syntax :\n",
    "\n",
    "    def function_name(arguments) :\n",
    "        statements\n",
    "        return "
   ]
  },
  {
   "cell_type": "markdown",
   "id": "188f0509",
   "metadata": {},
   "source": [
    "### Practical 1.11.1. Design a basic calculator which can perform all basic mathematical operations on user inputs using functions."
   ]
  },
  {
   "cell_type": "code",
   "execution_count": 16,
   "id": "059f09b0",
   "metadata": {
    "scrolled": true
   },
   "outputs": [
    {
     "name": "stdout",
     "output_type": "stream",
     "text": [
      "Enter your choice :\n",
      "1.Addition\n",
      "2.Subtraction\n",
      "3.Multiplication\n",
      "4.Division\n",
      "\n",
      "Enter your choice : 3\n",
      "Enter the first number : 10\n",
      "Enter the second number : 10\n",
      "The answer is : 100.0\n"
     ]
    }
   ],
   "source": [
    "# Aim : Design a basic calculator which can perform all basic mathematical operations on user inputs using functions\n",
    "\n",
    "# Addition\n",
    "def add(x,y):\n",
    "    return x+y\n",
    "\n",
    "# Substraction\n",
    "def minus(x,y):\n",
    "    return x-y\n",
    "\n",
    "# Multiplication\n",
    "def product(x,y):\n",
    "    return x*y\n",
    "\n",
    "# Division\n",
    "def division(x,y):\n",
    "    return x/y\n",
    "\n",
    "# Main function\n",
    "print(\"Enter your choice :\")\n",
    "print(\"1.Addition\")\n",
    "print(\"2.Subtraction\")\n",
    "print(\"3.Multiplication\")\n",
    "print(\"4.Division\")\n",
    "\n",
    "choice = int(input(\"\\nEnter your choice : \"))\n",
    "if choice <= 4:\n",
    "    num1 = float(input(\"Enter the first number : \"))\n",
    "    num2 = float(input(\"Enter the second number : \"))\n",
    "\n",
    "    if choice == 1:\n",
    "        print(\"The answer is :\",add(num1,num2))\n",
    "    elif choice == 2:\n",
    "        print(\"The answer is :\",minus(num1,num2))\n",
    "    elif choice == 3:\n",
    "        print(\"The answer is :\",product(num1,num2))\n",
    "    elif choice == 4:\n",
    "        print(\"The answer is :\",division(num1,num2))\n",
    "    else :\n",
    "        print(\"Enter a valid number....\")\n",
    "else :\n",
    "    print(\"\\nInvalid input \")"
   ]
  },
  {
   "cell_type": "markdown",
   "id": "74399deb",
   "metadata": {},
   "source": [
    "-------------------------------------------------------------------------------------------------------------------------------"
   ]
  },
  {
   "cell_type": "code",
   "execution_count": null,
   "id": "4d41b628",
   "metadata": {},
   "outputs": [],
   "source": []
  },
  {
   "cell_type": "code",
   "execution_count": null,
   "id": "6b567fd7",
   "metadata": {},
   "outputs": [],
   "source": []
  }
 ],
 "metadata": {
  "kernelspec": {
   "display_name": "Python 3 (ipykernel)",
   "language": "python",
   "name": "python3"
  },
  "language_info": {
   "codemirror_mode": {
    "name": "ipython",
    "version": 3
   },
   "file_extension": ".py",
   "mimetype": "text/x-python",
   "name": "python",
   "nbconvert_exporter": "python",
   "pygments_lexer": "ipython3",
   "version": "3.9.12"
  }
 },
 "nbformat": 4,
 "nbformat_minor": 5
}
